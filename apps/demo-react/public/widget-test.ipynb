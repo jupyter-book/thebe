{
 "cells": [
  {
   "cell_type": "code",
   "execution_count": 1,
   "id": "8879a9bf-da6b-4c89-a1c3-49543fd00173",
   "metadata": {},
   "outputs": [
    {
     "name": "stdout",
     "output_type": "stream",
     "text": [
      "Requirement already satisfied: ipywidgets in /opt/homebrew/Caskroom/miniforge/base/envs/p311/lib/python3.11/site-packages (8.1.2)\n",
      "Requirement already satisfied: comm>=0.1.3 in /opt/homebrew/Caskroom/miniforge/base/envs/p311/lib/python3.11/site-packages (from ipywidgets) (0.2.1)\n",
      "Requirement already satisfied: ipython>=6.1.0 in /opt/homebrew/Caskroom/miniforge/base/envs/p311/lib/python3.11/site-packages (from ipywidgets) (8.21.0)\n",
      "Requirement already satisfied: traitlets>=4.3.1 in /opt/homebrew/Caskroom/miniforge/base/envs/p311/lib/python3.11/site-packages (from ipywidgets) (5.14.1)\n",
      "Requirement already satisfied: widgetsnbextension~=4.0.10 in /opt/homebrew/Caskroom/miniforge/base/envs/p311/lib/python3.11/site-packages (from ipywidgets) (4.0.10)\n",
      "Requirement already satisfied: jupyterlab-widgets~=3.0.10 in /opt/homebrew/Caskroom/miniforge/base/envs/p311/lib/python3.11/site-packages (from ipywidgets) (3.0.10)\n",
      "Requirement already satisfied: decorator in /opt/homebrew/Caskroom/miniforge/base/envs/p311/lib/python3.11/site-packages (from ipython>=6.1.0->ipywidgets) (5.1.1)\n",
      "Requirement already satisfied: jedi>=0.16 in /opt/homebrew/Caskroom/miniforge/base/envs/p311/lib/python3.11/site-packages (from ipython>=6.1.0->ipywidgets) (0.19.1)\n",
      "Requirement already satisfied: matplotlib-inline in /opt/homebrew/Caskroom/miniforge/base/envs/p311/lib/python3.11/site-packages (from ipython>=6.1.0->ipywidgets) (0.1.6)\n",
      "Requirement already satisfied: prompt-toolkit<3.1.0,>=3.0.41 in /opt/homebrew/Caskroom/miniforge/base/envs/p311/lib/python3.11/site-packages (from ipython>=6.1.0->ipywidgets) (3.0.42)\n",
      "Requirement already satisfied: pygments>=2.4.0 in /opt/homebrew/Caskroom/miniforge/base/envs/p311/lib/python3.11/site-packages (from ipython>=6.1.0->ipywidgets) (2.17.2)\n",
      "Requirement already satisfied: stack-data in /opt/homebrew/Caskroom/miniforge/base/envs/p311/lib/python3.11/site-packages (from ipython>=6.1.0->ipywidgets) (0.6.2)\n",
      "Requirement already satisfied: pexpect>4.3 in /opt/homebrew/Caskroom/miniforge/base/envs/p311/lib/python3.11/site-packages (from ipython>=6.1.0->ipywidgets) (4.9.0)\n",
      "Requirement already satisfied: parso<0.9.0,>=0.8.3 in /opt/homebrew/Caskroom/miniforge/base/envs/p311/lib/python3.11/site-packages (from jedi>=0.16->ipython>=6.1.0->ipywidgets) (0.8.3)\n",
      "Requirement already satisfied: ptyprocess>=0.5 in /opt/homebrew/Caskroom/miniforge/base/envs/p311/lib/python3.11/site-packages (from pexpect>4.3->ipython>=6.1.0->ipywidgets) (0.7.0)\n",
      "Requirement already satisfied: wcwidth in /opt/homebrew/Caskroom/miniforge/base/envs/p311/lib/python3.11/site-packages (from prompt-toolkit<3.1.0,>=3.0.41->ipython>=6.1.0->ipywidgets) (0.2.13)\n",
      "Requirement already satisfied: executing>=1.2.0 in /opt/homebrew/Caskroom/miniforge/base/envs/p311/lib/python3.11/site-packages (from stack-data->ipython>=6.1.0->ipywidgets) (2.0.1)\n",
      "Requirement already satisfied: asttokens>=2.1.0 in /opt/homebrew/Caskroom/miniforge/base/envs/p311/lib/python3.11/site-packages (from stack-data->ipython>=6.1.0->ipywidgets) (2.4.1)\n",
      "Requirement already satisfied: pure-eval in /opt/homebrew/Caskroom/miniforge/base/envs/p311/lib/python3.11/site-packages (from stack-data->ipython>=6.1.0->ipywidgets) (0.2.2)\n",
      "Requirement already satisfied: six>=1.12.0 in /opt/homebrew/Caskroom/miniforge/base/envs/p311/lib/python3.11/site-packages (from asttokens>=2.1.0->stack-data->ipython>=6.1.0->ipywidgets) (1.16.0)\n",
      "Note: you may need to restart the kernel to use updated packages.\n"
     ]
    }
   ],
   "source": [
    "%pip install ipywidgets"
   ]
  },
  {
   "cell_type": "code",
   "execution_count": 2,
   "id": "4d49505d-0277-4f18-a8e4-0ed99d14de6c",
   "metadata": {},
   "outputs": [],
   "source": [
    "from ipywidgets import interact, IntSlider\n",
    "from IPython.display import Markdown, display\n",
    "from tqdm.notebook import trange, tqdm\n",
    "from time import sleep\n",
    "import numpy as np\n",
    "import matplotlib.pyplot as plt\n",
    "%matplotlib inline\n",
    "\n",
    "from ipywidgets import interact, interactive\n",
    "from IPython.display import clear_output, display, HTML\n",
    "\n",
    "import numpy as np\n",
    "from scipy import integrate\n",
    "\n",
    "from matplotlib import pyplot as plt\n",
    "from mpl_toolkits.mplot3d import Axes3D\n",
    "from matplotlib.colors import cnames\n",
    "from matplotlib import animation"
   ]
  },
  {
   "cell_type": "code",
   "execution_count": 3,
   "id": "847db08d-38af-45b3-be97-5d345936d863",
   "metadata": {
    "tags": [
     "widget"
    ]
   },
   "outputs": [
    {
     "data": {
      "application/vnd.jupyter.widget-view+json": {
       "model_id": "3bbeeb29ad4049b5b5aec15b1b37ea93",
       "version_major": 2,
       "version_minor": 0
      },
      "text/plain": [
       "interactive(children=(IntSlider(value=0, description='cookies'), IntSlider(value=75, description='calories', m…"
      ]
     },
     "metadata": {},
     "output_type": "display_data"
    }
   ],
   "source": [
    "# borrowed from https://jupyterlite.readthedocs.io/en/latest/_static/lab/index.html\n",
    "\n",
    "slider = IntSlider()\n",
    "\n",
    "@interact(cookies=slider)\n",
    "def cookies(cookies=slider.value, calories=(0, 150)):\n",
    "    total_calories = calories * cookies\n",
    "    if cookies:\n",
    "        display(\n",
    "          Markdown(\n",
    "            f\"If each cookie contains _{calories} calories_, _{cookies} cookies_ contain **{total_calories} calories**!\"\n",
    "          )\n",
    "        )\n",
    "    else:\n",
    "        display(Markdown(f\"No cookies!\"))\n",
    "    if total_calories > 2000:\n",
    "        display(Markdown(f\"> Maybe that's too many cookies...\"))"
   ]
  },
  {
   "cell_type": "code",
   "execution_count": 4,
   "id": "deb4c01f-d60f-47dd-9f01-bca7dacae6c4",
   "metadata": {
    "tags": [
     "widget"
    ]
   },
   "outputs": [
    {
     "data": {
      "application/vnd.jupyter.widget-view+json": {
       "model_id": "c4e765b4b67940068ff311f683485739",
       "version_major": 2,
       "version_minor": 0
      },
      "text/plain": [
       "1st loop:   0%|          | 0/2 [00:00<?, ?it/s]"
      ]
     },
     "metadata": {},
     "output_type": "display_data"
    },
    {
     "data": {
      "application/vnd.jupyter.widget-view+json": {
       "model_id": "2a8f7c48a9284464896b3439c85ecc4a",
       "version_major": 2,
       "version_minor": 0
      },
      "text/plain": [
       "2nd loop:   0%|          | 0/100 [00:00<?, ?it/s]"
      ]
     },
     "metadata": {},
     "output_type": "display_data"
    },
    {
     "data": {
      "application/vnd.jupyter.widget-view+json": {
       "model_id": "dfa19720065b4aa6a04181a1605ddf74",
       "version_major": 2,
       "version_minor": 0
      },
      "text/plain": [
       "2nd loop:   0%|          | 0/100 [00:00<?, ?it/s]"
      ]
     },
     "metadata": {},
     "output_type": "display_data"
    }
   ],
   "source": [
    "for i in trange(2, desc='1st loop'):\n",
    "    for j in tqdm(range(100), desc='2nd loop'):\n",
    "        sleep(0.01)"
   ]
  },
  {
   "cell_type": "code",
   "execution_count": 5,
   "id": "c533ddc5-0a5b-457a-bbd6-6a45371048cc",
   "metadata": {
    "tags": [
     "widget"
    ]
   },
   "outputs": [
    {
     "data": {
      "application/vnd.jupyter.widget-view+json": {
       "model_id": "ad4aa8bbe11d49acac9a893a2b4aab07",
       "version_major": 2,
       "version_minor": 0
      },
      "text/plain": [
       "interactive(children=(IntSlider(value=10, description='N', max=50), FloatSlider(value=0.0, description='angle'…"
      ]
     },
     "metadata": {},
     "output_type": "display_data"
    }
   ],
   "source": [
    "def solve_lorenz(\n",
    "  N=10, angle=0.0, max_time=4.0, \n",
    "  sigma=10.0, beta=8./3, rho=28.0):\n",
    "\n",
    "    fig = plt.figure()\n",
    "    ax = fig.add_axes([0, 0, 1, 1], projection='3d')\n",
    "    ax.axis('off')\n",
    "\n",
    "    # prepare the axes limits\n",
    "    ax.set_xlim((-25, 25))\n",
    "    ax.set_ylim((-35, 35))\n",
    "    ax.set_zlim((5, 55))\n",
    "    \n",
    "    def lorenz_deriv(x_y_z, t0, sigma=sigma, beta=beta, rho=rho):\n",
    "        \"\"\"Compute the time-derivative of a Lorenz system.\"\"\"\n",
    "        x, y, z = x_y_z\n",
    "        return [sigma * (y - x), x * (rho - z) - y, x * y - beta * z]\n",
    "\n",
    "    # Choose random starting points, uniformly distributed from -15 to 15\n",
    "    np.random.seed(1)\n",
    "    x0 = -15 + 30 * np.random.random((N, 3))\n",
    "\n",
    "    # Solve for the trajectories\n",
    "    t = np.linspace(0, max_time, int(250*max_time))\n",
    "    x_t = np.asarray([integrate.odeint(lorenz_deriv, x0i, t)\n",
    "                      for x0i in x0])\n",
    "    \n",
    "    # choose a different color for each trajectory\n",
    "    colors = plt.cm.viridis(np.linspace(0, 1, N))\n",
    "\n",
    "    for i in range(N):\n",
    "        x, y, z = x_t[i,:,:].T\n",
    "        lines = ax.plot(x, y, z, '-', c=colors[i])\n",
    "        plt.setp(lines, linewidth=2)\n",
    "\n",
    "    ax.view_init(30, angle)\n",
    "    plt.show()\n",
    "\n",
    "    return t, x_t\n",
    "\n",
    "w = interactive(solve_lorenz, angle=(0.,360.), max_time=(0.1, 4.0), \n",
    "                N=(0,50), sigma=(0.0,50.0), rho=(0.0,50.0))\n",
    "display(w)"
   ]
  },
  {
   "cell_type": "code",
   "execution_count": null,
   "id": "a7d59ecb-7d18-4092-b208-646ca677db48",
   "metadata": {},
   "outputs": [],
   "source": []
  },
  {
   "cell_type": "code",
   "execution_count": null,
   "id": "bc3f4c06-9105-40d9-b45f-0a661e1d938c",
   "metadata": {},
   "outputs": [],
   "source": []
  }
 ],
 "metadata": {
  "kernelspec": {
   "display_name": "Python 3 (ipykernel)",
   "language": "python",
   "name": "python3"
  },
  "language_info": {
   "codemirror_mode": {
    "name": "ipython",
    "version": 3
   },
   "file_extension": ".py",
   "mimetype": "text/x-python",
   "name": "python",
   "nbconvert_exporter": "python",
   "pygments_lexer": "ipython3",
   "version": "3.11.7"
  },
  "vscode": {
   "interpreter": {
    "hash": "b0fa6594d8f4cbf19f97940f81e996739fb7646882a419484c72d19e05852a7e"
   }
  },
  "widgets": {
   "application/vnd.jupyter.widget-state+json": {
    "state": {
     "010a798023ff45b0b083456168a98bbb": {
      "model_module": "@jupyter-widgets/base",
      "model_module_version": "2.0.0",
      "model_name": "LayoutModel",
      "state": {}
     },
     "04133439c3df4b928b069880fee43e75": {
      "model_module": "@jupyter-widgets/base",
      "model_module_version": "2.0.0",
      "model_name": "LayoutModel",
      "state": {}
     },
     "14e95f922e5b407a9f0e68ece26fe829": {
      "model_module": "@jupyter-widgets/base",
      "model_module_version": "2.0.0",
      "model_name": "LayoutModel",
      "state": {}
     },
     "15dd978ade4a4898a580c30384a56bad": {
      "model_module": "@jupyter-widgets/controls",
      "model_module_version": "2.0.0",
      "model_name": "FloatSliderModel",
      "state": {
       "behavior": "drag-tap",
       "description": "max_time",
       "layout": "IPY_MODEL_8993eca3862143eb9ac0ff547cbd0130",
       "max": 4,
       "min": 0.1,
       "step": 0.1,
       "style": "IPY_MODEL_7ae2e42103ad49ff98a4c07d23d26735",
       "value": 4
      }
     },
     "19043dec6e41457687675455f2503eba": {
      "model_module": "@jupyter-widgets/controls",
      "model_module_version": "2.0.0",
      "model_name": "HTMLModel",
      "state": {
       "layout": "IPY_MODEL_d3185d7beb0f48e499cda9622a47a8d8",
       "style": "IPY_MODEL_5334e04ca2a44e3891ba8989ebb3957f",
       "value": "2nd loop: 100%"
      }
     },
     "1aeb9b6f77ac4e4086cc28d441767bcc": {
      "model_module": "@jupyter-widgets/controls",
      "model_module_version": "2.0.0",
      "model_name": "SliderStyleModel",
      "state": {
       "description_width": ""
      }
     },
     "22686d4043944cb9933c61e7a0dfcff3": {
      "model_module": "@jupyter-widgets/base",
      "model_module_version": "2.0.0",
      "model_name": "LayoutModel",
      "state": {}
     },
     "246b67effc2349ef82806e24a2630d0c": {
      "model_module": "@jupyter-widgets/base",
      "model_module_version": "2.0.0",
      "model_name": "LayoutModel",
      "state": {}
     },
     "289af95adb6c45a5bdafae84db9bbe11": {
      "model_module": "@jupyter-widgets/controls",
      "model_module_version": "2.0.0",
      "model_name": "IntSliderModel",
      "state": {
       "behavior": "drag-tap",
       "description": "cookies",
       "layout": "IPY_MODEL_2c75cb3b28ad4e92b91fa47e6804c334",
       "style": "IPY_MODEL_347be2a6817343c7a086d8195fdc3b01"
      }
     },
     "2a8f7c48a9284464896b3439c85ecc4a": {
      "model_module": "@jupyter-widgets/controls",
      "model_module_version": "2.0.0",
      "model_name": "HBoxModel",
      "state": {
       "children": [
        "IPY_MODEL_e7f971d683b343b0a98d4090568b8848",
        "IPY_MODEL_511f8cd8eda1470c9c8bd10b2bcec7dd",
        "IPY_MODEL_3c991ecfecbb455b8801cc5e8bf8d197"
       ],
       "layout": "IPY_MODEL_98735d1601ed42f3bfcb3b477f045f63"
      }
     },
     "2c75cb3b28ad4e92b91fa47e6804c334": {
      "model_module": "@jupyter-widgets/base",
      "model_module_version": "2.0.0",
      "model_name": "LayoutModel",
      "state": {}
     },
     "2ce780e272ef49acb4fbdf3fd8d7dafa": {
      "model_module": "@jupyter-widgets/base",
      "model_module_version": "2.0.0",
      "model_name": "LayoutModel",
      "state": {}
     },
     "328474004d984ecca502cbecc277b556": {
      "model_module": "@jupyter-widgets/base",
      "model_module_version": "2.0.0",
      "model_name": "LayoutModel",
      "state": {}
     },
     "347be2a6817343c7a086d8195fdc3b01": {
      "model_module": "@jupyter-widgets/controls",
      "model_module_version": "2.0.0",
      "model_name": "SliderStyleModel",
      "state": {
       "description_width": ""
      }
     },
     "3576ae7de7264f1fb13c3f909c520805": {
      "model_module": "@jupyter-widgets/base",
      "model_module_version": "2.0.0",
      "model_name": "LayoutModel",
      "state": {}
     },
     "3860d8c892684cfda0ee6604ced3087c": {
      "model_module": "@jupyter-widgets/controls",
      "model_module_version": "2.0.0",
      "model_name": "IntSliderModel",
      "state": {
       "behavior": "drag-tap",
       "description": "calories",
       "layout": "IPY_MODEL_14e95f922e5b407a9f0e68ece26fe829",
       "max": 150,
       "style": "IPY_MODEL_f195e371945149c8bee15784863ed945",
       "value": 75
      }
     },
     "39170711c1c242d2ad2d42025dc0a63f": {
      "model_module": "@jupyter-widgets/controls",
      "model_module_version": "2.0.0",
      "model_name": "HTMLModel",
      "state": {
       "layout": "IPY_MODEL_80c654c5d7a04eb0aedb06b6c2f5aba8",
       "style": "IPY_MODEL_6597806b8aaf4208b7ccbfbeedccef56",
       "value": " 100/100 [00:01&lt;00:00, 81.82it/s]"
      }
     },
     "3ad9006e82004a01a0d139728db65294": {
      "model_module": "@jupyter-widgets/controls",
      "model_module_version": "2.0.0",
      "model_name": "HTMLModel",
      "state": {
       "layout": "IPY_MODEL_ce6993e6f6c24559b5cc8feced3fc88f",
       "style": "IPY_MODEL_42435b0d824a4c7db6eebecd4665b16e",
       "value": "1st loop: 100%"
      }
     },
     "3bbeeb29ad4049b5b5aec15b1b37ea93": {
      "model_module": "@jupyter-widgets/controls",
      "model_module_version": "2.0.0",
      "model_name": "VBoxModel",
      "state": {
       "_dom_classes": [
        "widget-interact"
       ],
       "children": [
        "IPY_MODEL_289af95adb6c45a5bdafae84db9bbe11",
        "IPY_MODEL_3860d8c892684cfda0ee6604ced3087c",
        "IPY_MODEL_83958505ef5e46acb5b3eba49fe17910"
       ],
       "layout": "IPY_MODEL_22686d4043944cb9933c61e7a0dfcff3"
      }
     },
     "3c991ecfecbb455b8801cc5e8bf8d197": {
      "model_module": "@jupyter-widgets/controls",
      "model_module_version": "2.0.0",
      "model_name": "HTMLModel",
      "state": {
       "layout": "IPY_MODEL_3576ae7de7264f1fb13c3f909c520805",
       "style": "IPY_MODEL_a3f2a8b5f4b2427ebdd8a4eef629a7fc",
       "value": " 100/100 [00:01&lt;00:00, 78.88it/s]"
      }
     },
     "42435b0d824a4c7db6eebecd4665b16e": {
      "model_module": "@jupyter-widgets/controls",
      "model_module_version": "2.0.0",
      "model_name": "HTMLStyleModel",
      "state": {
       "description_width": "",
       "font_size": null,
       "text_color": null
      }
     },
     "439ba1b0be614e90ae3d25ccd7775a2f": {
      "model_module": "@jupyter-widgets/controls",
      "model_module_version": "2.0.0",
      "model_name": "IntSliderModel",
      "state": {
       "behavior": "drag-tap",
       "description": "N",
       "layout": "IPY_MODEL_8210259b38f54d85a29f08ebcc5c830e",
       "max": 50,
       "style": "IPY_MODEL_ff7e65b76cd345179e07670c4b4b05f2",
       "value": 10
      }
     },
     "4f3a81045a4b45d6aa04de7b7378e3c9": {
      "model_module": "@jupyter-widgets/base",
      "model_module_version": "2.0.0",
      "model_name": "LayoutModel",
      "state": {}
     },
     "509bfeed754b416697b37d4f3a674492": {
      "model_module": "@jupyter-widgets/controls",
      "model_module_version": "2.0.0",
      "model_name": "SliderStyleModel",
      "state": {
       "description_width": ""
      }
     },
     "50bb73c7a99741a294e7dc388f4bff58": {
      "model_module": "@jupyter-widgets/base",
      "model_module_version": "2.0.0",
      "model_name": "LayoutModel",
      "state": {}
     },
     "511f8cd8eda1470c9c8bd10b2bcec7dd": {
      "model_module": "@jupyter-widgets/controls",
      "model_module_version": "2.0.0",
      "model_name": "FloatProgressModel",
      "state": {
       "bar_style": "success",
       "layout": "IPY_MODEL_50bb73c7a99741a294e7dc388f4bff58",
       "style": "IPY_MODEL_781cb9785c2f42f9847e7639b6b169bb",
       "value": 100
      }
     },
     "5334e04ca2a44e3891ba8989ebb3957f": {
      "model_module": "@jupyter-widgets/controls",
      "model_module_version": "2.0.0",
      "model_name": "HTMLStyleModel",
      "state": {
       "description_width": "",
       "font_size": null,
       "text_color": null
      }
     },
     "57cd7fa3d8364c85b7ef9d762365d502": {
      "model_module": "@jupyter-widgets/base",
      "model_module_version": "2.0.0",
      "model_name": "LayoutModel",
      "state": {}
     },
     "58a4e21155dd4e99b80ef3ceabfdcaf1": {
      "model_module": "@jupyter-widgets/controls",
      "model_module_version": "2.0.0",
      "model_name": "FloatProgressModel",
      "state": {
       "bar_style": "success",
       "layout": "IPY_MODEL_6876550fedba4a66b01a406846cb2ea4",
       "max": 2,
       "style": "IPY_MODEL_ccd266d7df634ea68694d1fad2ede82b",
       "value": 2
      }
     },
     "591ae23a56e5406f97cb4885c73963d8": {
      "model_module": "@jupyter-widgets/base",
      "model_module_version": "2.0.0",
      "model_name": "LayoutModel",
      "state": {}
     },
     "5bfcbd924e494a7bac0c356b28189a44": {
      "model_module": "@jupyter-widgets/base",
      "model_module_version": "2.0.0",
      "model_name": "LayoutModel",
      "state": {}
     },
     "6597806b8aaf4208b7ccbfbeedccef56": {
      "model_module": "@jupyter-widgets/controls",
      "model_module_version": "2.0.0",
      "model_name": "HTMLStyleModel",
      "state": {
       "description_width": "",
       "font_size": null,
       "text_color": null
      }
     },
     "6876550fedba4a66b01a406846cb2ea4": {
      "model_module": "@jupyter-widgets/base",
      "model_module_version": "2.0.0",
      "model_name": "LayoutModel",
      "state": {}
     },
     "6a2facf1826d435f940fe19ed6ebc992": {
      "model_module": "@jupyter-widgets/controls",
      "model_module_version": "2.0.0",
      "model_name": "SliderStyleModel",
      "state": {
       "description_width": ""
      }
     },
     "750c5407037e4e28aa06f7fa34aa1b8d": {
      "model_module": "@jupyter-widgets/controls",
      "model_module_version": "2.0.0",
      "model_name": "FloatSliderModel",
      "state": {
       "behavior": "drag-tap",
       "description": "sigma",
       "layout": "IPY_MODEL_591ae23a56e5406f97cb4885c73963d8",
       "max": 50,
       "step": 0.1,
       "style": "IPY_MODEL_6a2facf1826d435f940fe19ed6ebc992",
       "value": 10
      }
     },
     "781cb9785c2f42f9847e7639b6b169bb": {
      "model_module": "@jupyter-widgets/controls",
      "model_module_version": "2.0.0",
      "model_name": "ProgressStyleModel",
      "state": {
       "description_width": ""
      }
     },
     "7ae2e42103ad49ff98a4c07d23d26735": {
      "model_module": "@jupyter-widgets/controls",
      "model_module_version": "2.0.0",
      "model_name": "SliderStyleModel",
      "state": {
       "description_width": ""
      }
     },
     "80c654c5d7a04eb0aedb06b6c2f5aba8": {
      "model_module": "@jupyter-widgets/base",
      "model_module_version": "2.0.0",
      "model_name": "LayoutModel",
      "state": {}
     },
     "8210259b38f54d85a29f08ebcc5c830e": {
      "model_module": "@jupyter-widgets/base",
      "model_module_version": "2.0.0",
      "model_name": "LayoutModel",
      "state": {}
     },
     "83958505ef5e46acb5b3eba49fe17910": {
      "model_module": "@jupyter-widgets/output",
      "model_module_version": "1.0.0",
      "model_name": "OutputModel",
      "state": {
       "layout": "IPY_MODEL_04133439c3df4b928b069880fee43e75",
       "outputs": [
        {
         "data": {
          "text/markdown": "No cookies!",
          "text/plain": "<IPython.core.display.Markdown object>"
         },
         "metadata": {},
         "output_type": "display_data"
        }
       ]
      }
     },
     "8993eca3862143eb9ac0ff547cbd0130": {
      "model_module": "@jupyter-widgets/base",
      "model_module_version": "2.0.0",
      "model_name": "LayoutModel",
      "state": {}
     },
     "8d89ef75c7b64dd5961d5dbcb82a4322": {
      "model_module": "@jupyter-widgets/controls",
      "model_module_version": "2.0.0",
      "model_name": "HTMLModel",
      "state": {
       "layout": "IPY_MODEL_57cd7fa3d8364c85b7ef9d762365d502",
       "style": "IPY_MODEL_bcc8038326bb48b5975182823a2ed624",
       "value": " 2/2 [00:02&lt;00:00,  1.25s/it]"
      }
     },
     "8fb16482b78449df83e56617cac65a05": {
      "model_module": "@jupyter-widgets/output",
      "model_module_version": "1.0.0",
      "model_name": "OutputModel",
      "state": {
       "layout": "IPY_MODEL_fea621cc86034db397b1f10c2a7248ec",
       "outputs": [
        {
         "data": {
          "image/png": "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",
          "text/plain": "<Figure size 640x480 with 1 Axes>"
         },
         "metadata": {},
         "output_type": "display_data"
        }
       ]
      }
     },
     "98735d1601ed42f3bfcb3b477f045f63": {
      "model_module": "@jupyter-widgets/base",
      "model_module_version": "2.0.0",
      "model_name": "LayoutModel",
      "state": {}
     },
     "988da7593bc64e408d4227cbf54e4b80": {
      "model_module": "@jupyter-widgets/controls",
      "model_module_version": "2.0.0",
      "model_name": "HTMLStyleModel",
      "state": {
       "description_width": "",
       "font_size": null,
       "text_color": null
      }
     },
     "9b4c285b8c02476ba1c131d476065772": {
      "model_module": "@jupyter-widgets/base",
      "model_module_version": "2.0.0",
      "model_name": "LayoutModel",
      "state": {}
     },
     "a0e6b16ea5db4e85affb7bb199a8bf3f": {
      "model_module": "@jupyter-widgets/controls",
      "model_module_version": "2.0.0",
      "model_name": "FloatSliderModel",
      "state": {
       "behavior": "drag-tap",
       "description": "rho",
       "layout": "IPY_MODEL_2ce780e272ef49acb4fbdf3fd8d7dafa",
       "max": 50,
       "step": 0.1,
       "style": "IPY_MODEL_cfc5d45980eb4dcb967197d521efd577",
       "value": 28
      }
     },
     "a3f2a8b5f4b2427ebdd8a4eef629a7fc": {
      "model_module": "@jupyter-widgets/controls",
      "model_module_version": "2.0.0",
      "model_name": "HTMLStyleModel",
      "state": {
       "description_width": "",
       "font_size": null,
       "text_color": null
      }
     },
     "a4598333b29245d4859e174545d7405b": {
      "model_module": "@jupyter-widgets/controls",
      "model_module_version": "2.0.0",
      "model_name": "FloatProgressModel",
      "state": {
       "bar_style": "success",
       "layout": "IPY_MODEL_328474004d984ecca502cbecc277b556",
       "style": "IPY_MODEL_a4e1c6e5b3e34557ad1352f6341bbecf",
       "value": 100
      }
     },
     "a4e1c6e5b3e34557ad1352f6341bbecf": {
      "model_module": "@jupyter-widgets/controls",
      "model_module_version": "2.0.0",
      "model_name": "ProgressStyleModel",
      "state": {
       "description_width": ""
      }
     },
     "a5d1c99362cc4120a099d16e36941b95": {
      "model_module": "@jupyter-widgets/controls",
      "model_module_version": "2.0.0",
      "model_name": "FloatSliderModel",
      "state": {
       "behavior": "drag-tap",
       "description": "angle",
       "layout": "IPY_MODEL_010a798023ff45b0b083456168a98bbb",
       "max": 360,
       "step": 0.1,
       "style": "IPY_MODEL_509bfeed754b416697b37d4f3a674492"
      }
     },
     "ad4aa8bbe11d49acac9a893a2b4aab07": {
      "model_module": "@jupyter-widgets/controls",
      "model_module_version": "2.0.0",
      "model_name": "VBoxModel",
      "state": {
       "_dom_classes": [
        "widget-interact"
       ],
       "children": [
        "IPY_MODEL_439ba1b0be614e90ae3d25ccd7775a2f",
        "IPY_MODEL_a5d1c99362cc4120a099d16e36941b95",
        "IPY_MODEL_15dd978ade4a4898a580c30384a56bad",
        "IPY_MODEL_750c5407037e4e28aa06f7fa34aa1b8d",
        "IPY_MODEL_b04c85b7e23c4eafaacb5ebf102300b7",
        "IPY_MODEL_a0e6b16ea5db4e85affb7bb199a8bf3f",
        "IPY_MODEL_8fb16482b78449df83e56617cac65a05"
       ],
       "layout": "IPY_MODEL_4f3a81045a4b45d6aa04de7b7378e3c9"
      }
     },
     "af6168909b2e4457a935f8164807afbd": {
      "model_module": "@jupyter-widgets/base",
      "model_module_version": "2.0.0",
      "model_name": "LayoutModel",
      "state": {}
     },
     "b04c85b7e23c4eafaacb5ebf102300b7": {
      "model_module": "@jupyter-widgets/controls",
      "model_module_version": "2.0.0",
      "model_name": "FloatSliderModel",
      "state": {
       "behavior": "drag-tap",
       "description": "beta",
       "layout": "IPY_MODEL_9b4c285b8c02476ba1c131d476065772",
       "max": 8,
       "min": -2.6666666666666665,
       "step": 0.1,
       "style": "IPY_MODEL_1aeb9b6f77ac4e4086cc28d441767bcc",
       "value": 2.6333333333333333
      }
     },
     "bcc8038326bb48b5975182823a2ed624": {
      "model_module": "@jupyter-widgets/controls",
      "model_module_version": "2.0.0",
      "model_name": "HTMLStyleModel",
      "state": {
       "description_width": "",
       "font_size": null,
       "text_color": null
      }
     },
     "c4e765b4b67940068ff311f683485739": {
      "model_module": "@jupyter-widgets/controls",
      "model_module_version": "2.0.0",
      "model_name": "HBoxModel",
      "state": {
       "children": [
        "IPY_MODEL_3ad9006e82004a01a0d139728db65294",
        "IPY_MODEL_58a4e21155dd4e99b80ef3ceabfdcaf1",
        "IPY_MODEL_8d89ef75c7b64dd5961d5dbcb82a4322"
       ],
       "layout": "IPY_MODEL_246b67effc2349ef82806e24a2630d0c"
      }
     },
     "ccd266d7df634ea68694d1fad2ede82b": {
      "model_module": "@jupyter-widgets/controls",
      "model_module_version": "2.0.0",
      "model_name": "ProgressStyleModel",
      "state": {
       "description_width": ""
      }
     },
     "ce6993e6f6c24559b5cc8feced3fc88f": {
      "model_module": "@jupyter-widgets/base",
      "model_module_version": "2.0.0",
      "model_name": "LayoutModel",
      "state": {}
     },
     "cfc5d45980eb4dcb967197d521efd577": {
      "model_module": "@jupyter-widgets/controls",
      "model_module_version": "2.0.0",
      "model_name": "SliderStyleModel",
      "state": {
       "description_width": ""
      }
     },
     "d3185d7beb0f48e499cda9622a47a8d8": {
      "model_module": "@jupyter-widgets/base",
      "model_module_version": "2.0.0",
      "model_name": "LayoutModel",
      "state": {}
     },
     "dfa19720065b4aa6a04181a1605ddf74": {
      "model_module": "@jupyter-widgets/controls",
      "model_module_version": "2.0.0",
      "model_name": "HBoxModel",
      "state": {
       "children": [
        "IPY_MODEL_19043dec6e41457687675455f2503eba",
        "IPY_MODEL_a4598333b29245d4859e174545d7405b",
        "IPY_MODEL_39170711c1c242d2ad2d42025dc0a63f"
       ],
       "layout": "IPY_MODEL_5bfcbd924e494a7bac0c356b28189a44"
      }
     },
     "e7f971d683b343b0a98d4090568b8848": {
      "model_module": "@jupyter-widgets/controls",
      "model_module_version": "2.0.0",
      "model_name": "HTMLModel",
      "state": {
       "layout": "IPY_MODEL_af6168909b2e4457a935f8164807afbd",
       "style": "IPY_MODEL_988da7593bc64e408d4227cbf54e4b80",
       "value": "2nd loop: 100%"
      }
     },
     "f195e371945149c8bee15784863ed945": {
      "model_module": "@jupyter-widgets/controls",
      "model_module_version": "2.0.0",
      "model_name": "SliderStyleModel",
      "state": {
       "description_width": ""
      }
     },
     "fea621cc86034db397b1f10c2a7248ec": {
      "model_module": "@jupyter-widgets/base",
      "model_module_version": "2.0.0",
      "model_name": "LayoutModel",
      "state": {}
     },
     "ff7e65b76cd345179e07670c4b4b05f2": {
      "model_module": "@jupyter-widgets/controls",
      "model_module_version": "2.0.0",
      "model_name": "SliderStyleModel",
      "state": {
       "description_width": ""
      }
     }
    },
    "version_major": 2,
    "version_minor": 0
   }
  }
 },
 "nbformat": 4,
 "nbformat_minor": 5
}
